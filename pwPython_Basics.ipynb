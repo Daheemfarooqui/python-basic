{
 "cells": [
  {
   "cell_type": "markdown",
   "id": "149b657a",
   "metadata": {},
   "source": [
    "## Quesion no.1. Declare two variables, `x` and `y`, and assign them integer values. Swap the values of these variables without using any temporary variable."
   ]
  },
  {
   "cell_type": "markdown",
   "id": "a08b29cc",
   "metadata": {},
   "source": [
    "## Q1. What is your Name."
   ]
  },
  {
   "cell_type": "code",
   "execution_count": 21,
   "id": "af4b2b13",
   "metadata": {},
   "outputs": [
    {
     "name": "stdin",
     "output_type": "stream",
     "text": [
      "the value of x is  100\n",
      "the value of y is  200\n"
     ]
    },
    {
     "name": "stdout",
     "output_type": "stream",
     "text": [
      "After swapping:\n",
      "x =  200\n",
      "y =  100\n"
     ]
    }
   ],
   "source": [
    "x = int(input(\"the value of x is \"))\n",
    "y = int(input(\"the value of y is \"))\n",
    "x,y = y,x\n",
    "print(\"After swapping:\")\n",
    "print(\"x = \",x)\n",
    "print(\"y = \",y)\n"
   ]
  },
  {
   "cell_type": "markdown",
   "id": "aecb340a",
   "metadata": {},
   "source": [
    "## Q2. Create a program that calculates the area of a rectangle. Take the length and width as inputs from the user and store them in variables. Calculate and display the area."
   ]
  },
  {
   "cell_type": "code",
   "execution_count": 28,
   "id": "f23bdcf6-a793-4487-bce5-bfd74cd5a282",
   "metadata": {},
   "outputs": [
    {
     "name": "stdin",
     "output_type": "stream",
     "text": [
      "Enter the length of the rectangle:  2.5\n",
      "Enter the width of the rectangle:  3.5\n"
     ]
    },
    {
     "name": "stdout",
     "output_type": "stream",
     "text": [
      "The area of the rectangle is: 8.75\n"
     ]
    }
   ],
   "source": [
    "# Input the length and width from the user\n",
    "length = float(input(\"Enter the length of the rectangle: \"))\n",
    "width = float(input(\"Enter the width of the rectangle: \"))\n",
    "\n",
    "# Calculate the area of the rectangle\n",
    "area = length * width\n",
    "\n",
    "# Display the calculated area\n",
    "print(\"The area of the rectangle is:\", area)"
   ]
  },
  {
   "cell_type": "code",
   "execution_count": null,
   "id": "9312872d-11dd-4db3-9e13-5c92d02fad81",
   "metadata": {},
   "outputs": [],
   "source": []
  },
  {
   "cell_type": "markdown",
   "id": "e00476e5",
   "metadata": {},
   "source": [
    "## Q3. Write a Python program that converts temperatures from Celsius to Fahrenheit. Take the temperature in Celsius as input, store it in a variable, convert it to Fahrenheit, and display the result."
   ]
  },
  {
   "cell_type": "code",
   "execution_count": 37,
   "id": "22923a6b-ac6e-4e03-a2c1-ad72c8b1b60e",
   "metadata": {},
   "outputs": [
    {
     "name": "stdin",
     "output_type": "stream",
     "text": [
      "enter the temperature in celsius :\n",
      " 50\n"
     ]
    },
    {
     "name": "stdout",
     "output_type": "stream",
     "text": [
      "temperature in fahrenheit : 122.0\n"
     ]
    }
   ],
   "source": [
    "# Input temperature in Celsius from the user\n",
    "celsius = int(input(\"enter the temperature in celsius :\\n\"))\n",
    "\n",
    "# Convert Celsius to Fahrenheit\n",
    "fahrenheit = (celsius*1.8) + 32.\n",
    "\n",
    "# Display the temperature in Fahrenheit\n",
    "print(\"temperature in fahrenheit :\",fahrenheit)"
   ]
  },
  {
   "cell_type": "markdown",
   "id": "7fd974b2",
   "metadata": {},
   "source": [
    "# TOPIC: String Based Questions"
   ]
  },
  {
   "cell_type": "markdown",
   "id": "94982500",
   "metadata": {},
   "source": [
    "## Q1. Write a Python program that takes a string as input and prints the length of the string."
   ]
  },
  {
   "cell_type": "code",
   "execution_count": 41,
   "id": "611b6176-94f8-4eae-8741-7066e6f2b10c",
   "metadata": {},
   "outputs": [
    {
     "name": "stdin",
     "output_type": "stream",
     "text": [
      "Type String. \n",
      " daheem\n"
     ]
    },
    {
     "name": "stdout",
     "output_type": "stream",
     "text": [
      "The Length of the string is 6\n"
     ]
    }
   ],
   "source": [
    "x = input('Type String. \\n')\n",
    "\n",
    "print(f'The Length of the string is {len(x)}')"
   ]
  },
  {
   "cell_type": "code",
   "execution_count": null,
   "id": "cc7db6e2-e34c-4ba2-b411-36fd225a859f",
   "metadata": {},
   "outputs": [],
   "source": []
  },
  {
   "cell_type": "markdown",
   "id": "7ea75e92",
   "metadata": {},
   "source": [
    "## Q2. Create a program that takes a sentence from the user and counts the number of vowels (a, e, i, o, u) in the string."
   ]
  },
  {
   "cell_type": "code",
   "execution_count": 1,
   "id": "8259c876-0de4-484b-8792-dd30dcc4cda1",
   "metadata": {},
   "outputs": [
    {
     "name": "stdin",
     "output_type": "stream",
     "text": [
      "Enter a sentence:  fseaghf.\n"
     ]
    },
    {
     "name": "stdout",
     "output_type": "stream",
     "text": [
      "Number of vowels in the sentence: 2\n"
     ]
    }
   ],
   "source": [
    "# Input a sentence from the user\n",
    "sentence = input(\"Enter a sentence: \")\n",
    "\n",
    "# Initialize a variable to count the number of vowels\n",
    "vowel_count = 0\n",
    "\n",
    "# Define a list of vowels\n",
    "vowels = \"aeiouAEIOU\"\n",
    "\n",
    "# Iterate through each character in the sentence\n",
    "for char in sentence:\n",
    "    if char in vowels:\n",
    "        vowel_count += 1\n",
    "\n",
    "# Display the count of vowels in the sentence\n",
    "print(\"Number of vowels in the sentence:\", vowel_count)"
   ]
  },
  {
   "cell_type": "markdown",
   "id": "9a2914b7",
   "metadata": {},
   "source": [
    "## Q3. Given a string, reverse the order of characters using string slicing and print the reversed string."
   ]
  },
  {
   "cell_type": "code",
   "execution_count": 4,
   "id": "328d04b5",
   "metadata": {},
   "outputs": [
    {
     "name": "stdin",
     "output_type": "stream",
     "text": [
      "Type your String. \n",
      "  fz\n"
     ]
    },
    {
     "name": "stdout",
     "output_type": "stream",
     "text": [
      "the reverse string is : zf"
     ]
    }
   ],
   "source": [
    "string = input('Type your String. \\n ')\n",
    "\n",
    "string = string[::-1]\n",
    "\n",
    "print(f\"the reverse string is : {string}\", end=\"\")"
   ]
  },
  {
   "cell_type": "code",
   "execution_count": null,
   "id": "c8b3df55",
   "metadata": {},
   "outputs": [],
   "source": []
  },
  {
   "cell_type": "markdown",
   "id": "a7a7d7c5",
   "metadata": {},
   "source": [
    "## Q4. Write a program that takes a string as input and checks if it is a palindrome. (reads the same forwards and backwards)."
   ]
  },
  {
   "cell_type": "code",
   "execution_count": 9,
   "id": "f9da5485",
   "metadata": {},
   "outputs": [
    {
     "name": "stdin",
     "output_type": "stream",
     "text": [
      "Type Your Input: \n",
      " daheem\n"
     ]
    },
    {
     "name": "stdout",
     "output_type": "stream",
     "text": [
      "daheem is not Palindrome.\n"
     ]
    }
   ],
   "source": [
    "# Input a string from the user\n",
    "string = input('Type Your Input: \\n')\n",
    "# convert the string to lowercase\n",
    "string = string.lower()\n",
    "\n",
    "reverse_string = string[::-1]\n",
    "string == reverse_string\n",
    "\n",
    "if string == reverse_string:\n",
    "    print(f'{string} is Palindrome.')\n",
    "else:\n",
    "    print(f'{string} is not Palindrome.')"
   ]
  },
  {
   "cell_type": "code",
   "execution_count": null,
   "id": "4f6d9d11-a45d-4bc7-b799-cfcd4eb1efff",
   "metadata": {},
   "outputs": [],
   "source": []
  },
  {
   "cell_type": "markdown",
   "id": "95512c70",
   "metadata": {},
   "source": [
    "## Q5.Create a program that takes a string as input and removes all the spaces from it. Print the modified string without spaces."
   ]
  },
  {
   "cell_type": "code",
   "execution_count": 12,
   "id": "00429915",
   "metadata": {},
   "outputs": [
    {
     "name": "stdin",
     "output_type": "stream",
     "text": [
      "Type Your String. \n",
      " my name is thdee\n"
     ]
    },
    {
     "name": "stdout",
     "output_type": "stream",
     "text": [
      "string without spaces mynameisthdee\n"
     ]
    }
   ],
   "source": [
    "\n",
    "string = input('Type Your String. \\n')\n",
    "string = string.replace(\" \", \"\")\n",
    "print(\"string without spaces\",string)"
   ]
  },
  {
   "cell_type": "code",
   "execution_count": null,
   "id": "5c0b3d9f",
   "metadata": {},
   "outputs": [],
   "source": []
  }
 ],
 "metadata": {
  "kernelspec": {
   "display_name": "Python 3 (ipykernel)",
   "language": "python",
   "name": "python3"
  },
  "language_info": {
   "codemirror_mode": {
    "name": "ipython",
    "version": 3
   },
   "file_extension": ".py",
   "mimetype": "text/x-python",
   "name": "python",
   "nbconvert_exporter": "python",
   "pygments_lexer": "ipython3",
   "version": "3.10.8"
  }
 },
 "nbformat": 4,
 "nbformat_minor": 5
}
